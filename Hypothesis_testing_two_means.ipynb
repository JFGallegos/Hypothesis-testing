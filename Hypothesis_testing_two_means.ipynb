{
 "cells": [
  {
   "cell_type": "markdown",
   "metadata": {},
   "source": [
    "# T-statistic "
   ]
  },
  {
   "cell_type": "markdown",
   "metadata": {},
   "source": [
    "In this exercice we illustrate a two-sample t-test, that is used to determine if two population means are equal. We are using the data from https://www.itl.nist.gov/div898/handbook/eda/section3/eda353.htm, which is a data set that contains miles per gallon for U.S. cars (sample 1) and for Japanese cars (sample 2).\n"
   ]
  },
  {
   "cell_type": "code",
   "execution_count": 105,
   "metadata": {},
   "outputs": [],
   "source": [
    "import numpy as np\n",
    "import pandas as pd\n",
    "from IPython.display import Image\n",
    "from IPython.core.display import HTML"
   ]
  },
  {
   "cell_type": "code",
   "execution_count": 85,
   "metadata": {},
   "outputs": [
    {
     "data": {
      "text/html": [
       "<div>\n",
       "<style scoped>\n",
       "    .dataframe tbody tr th:only-of-type {\n",
       "        vertical-align: middle;\n",
       "    }\n",
       "\n",
       "    .dataframe tbody tr th {\n",
       "        vertical-align: top;\n",
       "    }\n",
       "\n",
       "    .dataframe thead th {\n",
       "        text-align: right;\n",
       "    }\n",
       "</style>\n",
       "<table border=\"1\" class=\"dataframe\">\n",
       "  <thead>\n",
       "    <tr style=\"text-align: right;\">\n",
       "      <th></th>\n",
       "      <th>US_cars</th>\n",
       "      <th>Jp_cars</th>\n",
       "    </tr>\n",
       "  </thead>\n",
       "  <tbody>\n",
       "    <tr>\n",
       "      <td>0</td>\n",
       "      <td>18</td>\n",
       "      <td>24.0</td>\n",
       "    </tr>\n",
       "    <tr>\n",
       "      <td>1</td>\n",
       "      <td>15</td>\n",
       "      <td>27.0</td>\n",
       "    </tr>\n",
       "    <tr>\n",
       "      <td>2</td>\n",
       "      <td>18</td>\n",
       "      <td>27.0</td>\n",
       "    </tr>\n",
       "    <tr>\n",
       "      <td>3</td>\n",
       "      <td>16</td>\n",
       "      <td>25.0</td>\n",
       "    </tr>\n",
       "    <tr>\n",
       "      <td>4</td>\n",
       "      <td>17</td>\n",
       "      <td>31.0</td>\n",
       "    </tr>\n",
       "    <tr>\n",
       "      <td>...</td>\n",
       "      <td>...</td>\n",
       "      <td>...</td>\n",
       "    </tr>\n",
       "    <tr>\n",
       "      <td>244</td>\n",
       "      <td>27</td>\n",
       "      <td>NaN</td>\n",
       "    </tr>\n",
       "    <tr>\n",
       "      <td>245</td>\n",
       "      <td>27</td>\n",
       "      <td>NaN</td>\n",
       "    </tr>\n",
       "    <tr>\n",
       "      <td>246</td>\n",
       "      <td>32</td>\n",
       "      <td>NaN</td>\n",
       "    </tr>\n",
       "    <tr>\n",
       "      <td>247</td>\n",
       "      <td>28</td>\n",
       "      <td>NaN</td>\n",
       "    </tr>\n",
       "    <tr>\n",
       "      <td>248</td>\n",
       "      <td>31</td>\n",
       "      <td>NaN</td>\n",
       "    </tr>\n",
       "  </tbody>\n",
       "</table>\n",
       "<p>249 rows × 2 columns</p>\n",
       "</div>"
      ],
      "text/plain": [
       "     US_cars  Jp_cars\n",
       "0         18     24.0\n",
       "1         15     27.0\n",
       "2         18     27.0\n",
       "3         16     25.0\n",
       "4         17     31.0\n",
       "..       ...      ...\n",
       "244       27      NaN\n",
       "245       27      NaN\n",
       "246       32      NaN\n",
       "247       28      NaN\n",
       "248       31      NaN\n",
       "\n",
       "[249 rows x 2 columns]"
      ]
     },
     "execution_count": 85,
     "metadata": {},
     "output_type": "execute_result"
    }
   ],
   "source": [
    "## The first column is miles per gallon for U.S. cars and the second column is miles per gallon for Japanese cars\n",
    "\n",
    "data = pd.read_csv(\"cars_data.csv\",header = 0)\n",
    "data"
   ]
  },
  {
   "cell_type": "code",
   "execution_count": 96,
   "metadata": {},
   "outputs": [],
   "source": [
    "## Let's compute the mean and the standard deviation of each group\n",
    "\n",
    "us_cars_mean = data[\"US_cars\"].mean()\n",
    "\n",
    "us_cars_sv = data[\"US_cars\"].var()\n",
    "\n",
    "us_n = data[\"US_cars\"].count()\n",
    "\n",
    "jp_cars_mean = data[\"Jp_cars\"].mean()\n",
    "\n",
    "jp_cars_sv = data[\"Jp_cars\"].var()\n",
    "\n",
    "jp_n = data[\"Jp_cars\"].count()\n",
    "\n",
    " "
   ]
  },
  {
   "cell_type": "code",
   "execution_count": 97,
   "metadata": {},
   "outputs": [
    {
     "name": "stdout",
     "output_type": "stream",
     "text": [
      "US sample mean =  20.14457831325301\n",
      "Jp sample mean =  30.481012658227847\n",
      "US sample variance 41.14836766420521\n",
      "Jp sample variance 37.30412203829926\n",
      "US n = 249\n",
      "Jp n = 79\n"
     ]
    }
   ],
   "source": [
    "## Print the data\n",
    "\n",
    "countries = [\"US\",\"Jp\"]\n",
    "\n",
    "for i in countries:\n",
    "\n",
    "     print (i+\" sample mean = \",data[i+\"_cars\"].mean())\n",
    "        \n",
    "for i in countries:\n",
    "\n",
    "     print (i+\" sample variance\",data[i+\"_cars\"].var())  \n",
    "        \n",
    "for i in countries:\n",
    "\n",
    "     print (i+\" n =\",data[i+\"_cars\"].count())"
   ]
  },
  {
   "cell_type": "markdown",
   "metadata": {},
   "source": [
    "Now we can use the Two-Sample t-Test for Equal Means formula:\n",
    "\n",
    "$$ t = \\frac{ \\bar{X_1} - \\bar{X_2}}{\\sqrt{\\frac{s_1^2}{n_1} + \\frac{s_2^2}{n_2}  }} $$"
   ]
  },
  {
   "cell_type": "markdown",
   "metadata": {},
   "source": [
    "In our case, we want to test if the average consumption of miles per gallon is different between the US and Japanese cars two population means are different at 0.05 significance level.\n",
    "Thus, our hypotesis test can be formally formulated as:\n",
    "$$H_0 : \\mu_1 = \\mu_2$$\n",
    "$$H_1: \\mu_1 \\neq \\mu_2$$\n",
    "\n"
   ]
  },
  {
   "cell_type": "code",
   "execution_count": 98,
   "metadata": {},
   "outputs": [],
   "source": [
    "# Function to compute the t statistic:\n",
    "\n",
    "def t_statistic(X_mean_one,X_mean_two,sigma_one,sigma_two,n_1,n_2):\n",
    "    \n",
    "    \n",
    "    t = (X_mean_one - X_mean_two) / np.sqrt((sigma_one/n_1) + (sigma_two/n_2))\n",
    "    \n",
    "    return t"
   ]
  },
  {
   "cell_type": "code",
   "execution_count": 111,
   "metadata": {},
   "outputs": [
    {
     "name": "stdout",
     "output_type": "stream",
     "text": [
      "We have a t statistic of: -12.946273274932004\n"
     ]
    }
   ],
   "source": [
    "## Compute the t_stat\n",
    "\n",
    "t_stat =  t_statistic(us_cars_mean,jp_cars_mean,us_cars_sv,jp_cars_sv,us_n,jp_n)\n",
    "\n",
    "print(\"We have a t statistic of:\",t_stat)"
   ]
  },
  {
   "cell_type": "code",
   "execution_count": 110,
   "metadata": {},
   "outputs": [
    {
     "data": {
      "text/html": [
       "<img src=\"http://i.stack.imgur.com/PiSUh.png\"/>"
      ],
      "text/plain": [
       "<IPython.core.display.Image object>"
      ]
     },
     "execution_count": 110,
     "metadata": {},
     "output_type": "execute_result"
    }
   ],
   "source": [
    "## Let's find our treshold for a .05 significance level.\n",
    "## In this example we want to know if the means are different.\n",
    "## We have that .05 / 2 = .025 and we have (249 -1 + 79 - 1) = 326 degrees of freddom\n",
    "\n",
    "## Thus, we have a treashold t value approximatively  of (1.984+1.962)/2 = 1.9729999999999999:\n",
    "\n",
    "Image(url= \"http://i.stack.imgur.com/PiSUh.png\")"
   ]
  },
  {
   "cell_type": "markdown",
   "metadata": {},
   "source": [
    "Finally we can conlude that: $$abs(-12.946273274932004) > 1.9729999999999999$$ Hence, we can reject the null hypothesis and conclude that the two population means are different at the 0.05 significance level."
   ]
  },
  {
   "cell_type": "code",
   "execution_count": null,
   "metadata": {},
   "outputs": [],
   "source": []
  }
 ],
 "metadata": {
  "kernelspec": {
   "display_name": "Python 3",
   "language": "python",
   "name": "python3"
  },
  "language_info": {
   "codemirror_mode": {
    "name": "ipython",
    "version": 3
   },
   "file_extension": ".py",
   "mimetype": "text/x-python",
   "name": "python",
   "nbconvert_exporter": "python",
   "pygments_lexer": "ipython3",
   "version": "3.7.4"
  }
 },
 "nbformat": 4,
 "nbformat_minor": 4
}
