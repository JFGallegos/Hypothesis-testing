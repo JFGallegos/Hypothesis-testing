{
 "cells": [
  {
   "cell_type": "markdown",
   "metadata": {},
   "source": [
    "# T-statistic small sample hypotesis test and confidence interval examples"
   ]
  },
  {
   "cell_type": "markdown",
   "metadata": {},
   "source": [
    "## Problem statement\n",
    "\n",
    "The mean emission of all engines of a new design needs to be below the 20 ppm if the design is to meet new emission requirements. Ten engines are manufactured for a testing purpose, and the emission level of each is determined. The emission data is available in vector X.\n",
    "\n",
    "Does the data supply sufficient evidence to conclude that the type of engine meets the new standard? Assume we are willing to risk a type I error with probability = 0.01\n",
    "\n"
   ]
  },
  {
   "cell_type": "code",
   "execution_count": 1,
   "metadata": {},
   "outputs": [],
   "source": [
    "import numpy as np\n",
    "from IPython.display import Image\n",
    "from IPython.core.display import HTML "
   ]
  },
  {
   "cell_type": "code",
   "execution_count": 2,
   "metadata": {},
   "outputs": [],
   "source": [
    "## Data\n",
    "\n",
    "X = np.array([[15.6,16.2,22.5,20.5,16.4,19.4,16.6,17.9,12.7,13.9]])"
   ]
  },
  {
   "cell_type": "markdown",
   "metadata": {},
   "source": [
    "Let's see what the t table looks like:"
   ]
  },
  {
   "cell_type": "code",
   "execution_count": 3,
   "metadata": {},
   "outputs": [
    {
     "data": {
      "text/html": [
       "<img src=\"http://i.stack.imgur.com/PiSUh.png\"/>"
      ],
      "text/plain": [
       "<IPython.core.display.Image object>"
      ]
     },
     "execution_count": 3,
     "metadata": {},
     "output_type": "execute_result"
    }
   ],
   "source": [
    "Image(url= \"http://i.stack.imgur.com/PiSUh.png\")\n"
   ]
  },
  {
   "cell_type": "markdown",
   "metadata": {},
   "source": [
    "So we want to find a random t statistic that has a 95% probability taht will be within the following values:\n",
    "    \n",
    "                                                                  -2.262 < t <2.262"
   ]
  },
  {
   "cell_type": "code",
   "execution_count": 6,
   "metadata": {},
   "outputs": [
    {
     "name": "stdout",
     "output_type": "stream",
     "text": [
      "X mean= 17.169999999999998  X standard deviation= 2.8284448023604774 # of ovserbations= 10\n"
     ]
    }
   ],
   "source": [
    "## First we want to compute the mean and standard deviation of the data\n",
    "\n",
    "X_mean = np.mean(X)\n",
    "\n",
    "sigma = np.std(X)\n",
    "\n",
    "n = X.shape[1]\n",
    "\n",
    "print(\"X mean=\",X_mean,\" X standard deviation=\",sigma, \"# of ovserbations=\",n)\n",
    "\n",
    "## And after the problem statement we know that\n",
    "\n",
    "mu = 20\n"
   ]
  },
  {
   "cell_type": "markdown",
   "metadata": {},
   "source": [
    "If we define the null hypotesis and the alternative hypotesis we have that:\n",
    "    \n",
    "$$H_0: \\mu = 20 ppm$$ \\\n",
    "$$H_1: \\mu < 20 ppm$$"
   ]
  },
  {
   "cell_type": "markdown",
   "metadata": {},
   "source": [
    "We are going to reject $H_O$ if $P(\\bar{X}| H_0 = true) < 1 \\%$"
   ]
  },
  {
   "cell_type": "markdown",
   "metadata": {},
   "source": [
    "If we use the definition of the t statistic which is:\n",
    "    \n",
    "$$ t = \\frac{\\bar{X} - \\mu}{\\frac{\\hat{\\sigma}}{\\sqrt[]n}} $$"
   ]
  },
  {
   "cell_type": "code",
   "execution_count": 10,
   "metadata": {},
   "outputs": [],
   "source": [
    "##Function to compute the t statistic\n",
    "\n",
    "def t_statistic(X_mean,mu,sigma,n):\n",
    "    \n",
    "    \n",
    "    t = (X_mean - mu) / (sigma/np.sqrt(n))\n",
    "    \n",
    "    return t"
   ]
  },
  {
   "cell_type": "code",
   "execution_count": 26,
   "metadata": {},
   "outputs": [
    {
     "name": "stdout",
     "output_type": "stream",
     "text": [
      "we have a t statistic =  -3.1640164131214195\n"
     ]
    }
   ],
   "source": [
    "## Print the t statistic\n",
    "\n",
    "t_stat = t_statistic(X_mean,mu,sigma,n)\n",
    "\n",
    "print(\"We have a t statistic = \",t_stat)"
   ]
  },
  {
   "cell_type": "code",
   "execution_count": 25,
   "metadata": {},
   "outputs": [
    {
     "name": "stdout",
     "output_type": "stream",
     "text": [
      "True\n",
      "Assuming the null hypotesis to be true, the probability of getting a t statistic of  -3.1640164131214195  is lower than 1%          thus we can reject the null hypotesis\n"
     ]
    }
   ],
   "source": [
    "## Now we know, from the density t Table, that the threshold for the t distribution for a 99% probability with n-1 degres of freedom is:\n",
    "\n",
    "## 99% threashold with 9 degrees of freedom is equal to 2.821\n",
    "\n",
    "threshold = -2.821 \n",
    "\n",
    "## As the t distribution is symetric, we have that :\n",
    "\n",
    "if t_stat < threshold:\n",
    "    \n",
    "    print (True)\n",
    "    print (\"Assuming the null hypotesis to be true, the probability of getting a t statistic of \" ,t_stat,\" is lower than 1%\\\n",
    "          thus we can reject the null hypotesis\")\n",
    "    \n",
    "else:\n",
    "        \n",
    "    print (False)\n",
    "    print (\"Assuming the null hypotesis to be true, we do not have enough evidence at 99 % confidence, to reject\\\n",
    "          the null hypotesis\")       \n",
    "    \n",
    "\n",
    "\n"
   ]
  },
  {
   "cell_type": "markdown",
   "metadata": {},
   "source": [
    "Now let's compute a 95% confidence interval. From the t Table, we have that for a confidence interval of 95% and 9 degrees of freedom the t value is equal to 2.262.\n",
    "\n",
    "As the t Table is symetric, we have that we need a t statistic respecting the following constraint:\n",
    "\n",
    "$$-2.262 < t < 2.262$$\\\n",
    "$$-2.262 < \\frac{\\bar{X} - \\mu}{\\frac{\\hat{\\sigma}}{\\sqrt[]n}} < 2.262$$\\\n",
    "$$-2.262 < \\frac{17.17-\\mu}{\\frac{2.82}{\\sqrt{10}}}< 2.262 $$\\\n",
    "$$-2.262 < \\frac{17.17-\\mu}{.8918} < 2.262  $$\\\n",
    "$$-2.262 (.8918) < 17.17-\\mu  < (.8918) 2.262 $$\\\n",
    "$$-2.0173< 17.17-\\mu <2.0173$$\\\n",
    "$$-2.0173< 17.17-\\mu <2.0173$$\\\n",
    "$$2.0173 > \\mu - 17.17 > - 2.0173$$\\ \n",
    "$$2.0173 + 17.17 > \\mu > - 2.0173 + 17.17$$\\\n",
    "$$ 15.1527 > \\mu > 19.1873 $$\n",
    "\n",
    "\n",
    "Hence, there is a 95 % chance that the real population mean $\\mu$ falls between the interval we have just computed.\n",
    "\n",
    "\n"
   ]
  },
  {
   "cell_type": "code",
   "execution_count": null,
   "metadata": {},
   "outputs": [],
   "source": []
  }
 ],
 "metadata": {
  "kernelspec": {
   "display_name": "Python 3",
   "language": "python",
   "name": "python3"
  },
  "language_info": {
   "codemirror_mode": {
    "name": "ipython",
    "version": 3
   },
   "file_extension": ".py",
   "mimetype": "text/x-python",
   "name": "python",
   "nbconvert_exporter": "python",
   "pygments_lexer": "ipython3",
   "version": "3.7.4"
  }
 },
 "nbformat": 4,
 "nbformat_minor": 4
}
